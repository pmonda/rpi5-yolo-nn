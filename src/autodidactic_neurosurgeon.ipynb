{
  "cells": [
    {
      "cell_type": "markdown",
      "metadata": {
        "id": "view-in-github",
        "colab_type": "text"
      },
      "source": [
        "<a href=\"https://colab.research.google.com/github/pmonda/rpi5-yolo-nn/blob/colab/src/autodidactic_neurosurgeon.ipynb\" target=\"_parent\"><img src=\"https://colab.research.google.com/assets/colab-badge.svg\" alt=\"Open In Colab\"/></a>"
      ]
    },
    {
      "cell_type": "code",
      "source": [
        "from google.colab import drive\n",
        "drive.mount('/content/drive')"
      ],
      "metadata": {
        "colab": {
          "base_uri": "https://localhost:8080/"
        },
        "id": "i5yYQzxDTAIS",
        "outputId": "665a72df-a73a-4d1e-bac2-ce2e354d5683"
      },
      "id": "i5yYQzxDTAIS",
      "execution_count": 1,
      "outputs": [
        {
          "output_type": "stream",
          "name": "stdout",
          "text": [
            "Mounted at /content/drive\n"
          ]
        }
      ]
    },
    {
      "cell_type": "code",
      "execution_count": 3,
      "id": "45921f06",
      "metadata": {
        "colab": {
          "base_uri": "https://localhost:8080/"
        },
        "id": "45921f06",
        "outputId": "6fbaa752-b313-46e5-cfe9-090a4e9db40f"
      },
      "outputs": [
        {
          "output_type": "stream",
          "name": "stderr",
          "text": [
            "/content/drive/MyDrive/ML_Research/utils.py:340: UserWarning: TypedStorage is deprecated. It will be removed in the future and UntypedStorage will be the only storage class. This should only matter to you if you are using storages directly.  To access UntypedStorage directly, use tensor.untyped_storage() instead of tensor.storage()\n",
            "  img = torch.ByteTensor(torch.ByteStorage.from_buffer(img.tobytes()))\n",
            "/usr/local/lib/python3.11/dist-packages/torch/nn/modules/module.py:1739: UserWarning: Implicit dimension choice for softmax has been deprecated. Change the call to include dim=X as an argument.\n",
            "  return self._call_impl(*args, **kwargs)\n"
          ]
        },
        {
          "output_type": "stream",
          "name": "stdout",
          "text": [
            "dog: 1.000000\n",
            "save plot results to predict1.jpg\n"
          ]
        }
      ],
      "source": [
        "import sys\n",
        "import os\n",
        "sys.path.append('/content/drive/MyDrive/ML_Research')\n",
        "from tiny_yolo import *\n",
        "\n",
        "\n",
        "if __name__ == \"__main__\":\n",
        "    from PIL import Image\n",
        "    from utils import *\n",
        "\n",
        "    model = TinyYoloNet()\n",
        "    model.float()\n",
        "    model.load_weights('/content/drive/MyDrive/ML_Research/yolov2-tiny-voc.weights')\n",
        "    model.eval()\n",
        "    # print(m)\n",
        "\n",
        "    use_cuda = 1\n",
        "    if use_cuda:\n",
        "        model.cuda()\n",
        "\n",
        "    img = Image.open('/content/drive/MyDrive/ML_Research/pmh2mmc4.png').convert('RGB')\n",
        "    sized = img.resize((416, 416))\n",
        "\n",
        "    boxes = do_detect(model, sized, 0.5, 0.5, use_cuda=True)\n",
        "\n",
        "    class_names = load_class_names('/content/drive/MyDrive/ML_Research/voc.names')\n",
        "    plot_boxes(img, boxes, 'predict1.jpg', class_names)"
      ]
    }
  ],
  "metadata": {
    "kernelspec": {
      "display_name": "Python 3",
      "name": "python3"
    },
    "language_info": {
      "codemirror_mode": {
        "name": "ipython",
        "version": 3
      },
      "file_extension": ".py",
      "mimetype": "text/x-python",
      "name": "python",
      "nbconvert_exporter": "python",
      "pygments_lexer": "ipython3",
      "version": "3.13.3"
    },
    "colab": {
      "provenance": [],
      "gpuType": "T4",
      "include_colab_link": true
    },
    "accelerator": "GPU"
  },
  "nbformat": 4,
  "nbformat_minor": 5
}