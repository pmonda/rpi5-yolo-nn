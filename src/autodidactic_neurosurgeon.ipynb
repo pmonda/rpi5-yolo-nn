{
  "cells": [
    {
      "cell_type": "markdown",
      "metadata": {
        "id": "view-in-github",
        "colab_type": "text"
      },
      "source": [
        "<a href=\"https://colab.research.google.com/github/pmonda/rpi5-yolo-nn/blob/colab/src/autodidactic_neurosurgeon.ipynb\" target=\"_parent\"><img src=\"https://colab.research.google.com/assets/colab-badge.svg\" alt=\"Open In Colab\"/></a>"
      ]
    },
    {
      "cell_type": "code",
      "source": [
        "from google.colab import drive\n",
        "drive.mount('/content/drive')"
      ],
      "metadata": {
        "colab": {
          "base_uri": "https://localhost:8080/"
        },
        "id": "i5yYQzxDTAIS",
        "outputId": "672e5408-185a-4814-a479-a005fd755bcb"
      },
      "id": "i5yYQzxDTAIS",
      "execution_count": 1,
      "outputs": [
        {
          "output_type": "stream",
          "name": "stdout",
          "text": [
            "Mounted at /content/drive\n"
          ]
        }
      ]
    },
    {
      "cell_type": "code",
      "execution_count": 5,
      "id": "45921f06",
      "metadata": {
        "colab": {
          "base_uri": "https://localhost:8080/"
        },
        "id": "45921f06",
        "outputId": "e3e3637d-f66b-44f9-912c-9307c48c6423"
      },
      "outputs": [
        {
          "output_type": "stream",
          "name": "stdout",
          "text": [
            "0: Conv2d\n",
            "1: BatchNorm2d\n",
            "2: LeakyReLU\n",
            "3: MaxPool2d\n",
            "4: Conv2d\n",
            "5: BatchNorm2d\n",
            "6: LeakyReLU\n",
            "7: MaxPool2d\n",
            "8: Conv2d\n",
            "9: BatchNorm2d\n",
            "10: LeakyReLU\n",
            "11: MaxPool2d\n",
            "12: Conv2d\n",
            "13: BatchNorm2d\n",
            "14: LeakyReLU\n",
            "15: MaxPool2d\n",
            "16: Conv2d\n",
            "17: BatchNorm2d\n",
            "18: LeakyReLU\n",
            "19: MaxPool2d\n",
            "20: Conv2d\n",
            "21: BatchNorm2d\n",
            "22: LeakyReLU\n",
            "23: MaxPoolStride1\n",
            "24: Conv2d\n",
            "25: BatchNorm2d\n",
            "26: LeakyReLU\n",
            "27: Conv2d\n",
            "28: BatchNorm2d\n",
            "29: LeakyReLU\n",
            "30: Conv2d\n",
            "<bound method Module.children of Sequential(\n",
            "  (0): Conv2d(3, 16, kernel_size=(3, 3), stride=(1, 1), padding=(1, 1), bias=False)\n",
            "  (1): BatchNorm2d(16, eps=1e-05, momentum=0.1, affine=True, track_running_stats=True)\n",
            "  (2): LeakyReLU(negative_slope=0.1, inplace=True)\n",
            "  (3): MaxPool2d(kernel_size=2, stride=2, padding=0, dilation=1, ceil_mode=False)\n",
            "  (4): Conv2d(16, 32, kernel_size=(3, 3), stride=(1, 1), padding=(1, 1), bias=False)\n",
            "  (5): BatchNorm2d(32, eps=1e-05, momentum=0.1, affine=True, track_running_stats=True)\n",
            "  (6): LeakyReLU(negative_slope=0.1, inplace=True)\n",
            "  (7): MaxPool2d(kernel_size=2, stride=2, padding=0, dilation=1, ceil_mode=False)\n",
            "  (8): Conv2d(32, 64, kernel_size=(3, 3), stride=(1, 1), padding=(1, 1), bias=False)\n",
            "  (9): BatchNorm2d(64, eps=1e-05, momentum=0.1, affine=True, track_running_stats=True)\n",
            "  (10): LeakyReLU(negative_slope=0.1, inplace=True)\n",
            "  (11): MaxPool2d(kernel_size=2, stride=2, padding=0, dilation=1, ceil_mode=False)\n",
            "  (12): Conv2d(64, 128, kernel_size=(3, 3), stride=(1, 1), padding=(1, 1), bias=False)\n",
            "  (13): BatchNorm2d(128, eps=1e-05, momentum=0.1, affine=True, track_running_stats=True)\n",
            "  (14): LeakyReLU(negative_slope=0.1, inplace=True)\n",
            ")>\n"
          ]
        }
      ],
      "source": [
        "import sys\n",
        "import os\n",
        "import torch\n",
        "import torch.nn as nn\n",
        "sys.path.append('/content/drive/MyDrive/ML_Research')\n",
        "from tiny_yolo import *\n",
        "\n",
        "\n",
        "def split_model(model, split_idx):\n",
        "    # Use model.cnn instead of model.module_list\n",
        "    part1 = nn.Sequential(*list(model.cnn.children())[:split_idx])\n",
        "    return part1\n",
        "\n",
        "if __name__ == \"__main__\":\n",
        "    from PIL import Image\n",
        "    from utils import *\n",
        "\n",
        "    model = TinyYoloNet()\n",
        "    model.float()\n",
        "    model.load_weights('/content/drive/MyDrive/ML_Research/yolov2-tiny-voc.weights')\n",
        "    model.eval()\n",
        "\n",
        "    # Inspect layer list to choose split index\n",
        "    for idx, layer in enumerate(model.cnn):\n",
        "        print(f\"{idx}: {layer.__class__.__name__}\")\n",
        "\n",
        "    # Choose split point that does NOT include RegionLoss\n",
        "    split_idx = len(model.cnn)//2  # All layers up to but not including RegionLoss\n",
        "    part1 = split_model(model, split_idx)\n",
        "    part1.cuda()\n",
        "\n",
        "    # Load and prepare image\n",
        "    img = Image.open('/content/drive/MyDrive/ML_Research/pmh2mmc4.png').convert('RGB')\n",
        "    sized = img.resize((416, 416))\n",
        "    img_tensor = image2torch(sized).cuda()\n",
        "\n",
        "    # Run inference with feature extractor (part1)\n",
        "    with torch.no_grad():\n",
        "        feature_out = part1(img_tensor)\n",
        "        # feature_out is output from rpi, that needs to go to pc as input.\n",
        "        print(part1.children)\n",
        "\n",
        "        # Use get_region_boxes to convert feature output to detections\n",
        "        # all_boxes = get_region_boxes(feature_out.data, conf_thresh=0.5, num_classes=20,\n",
        "        #                              anchors=model.anchors, num_anchors=model.num_anchors)\n",
        "        # boxes = nms(all_boxes[0], 0.4)\n",
        "\n",
        "    # Plot results\n",
        "    # plot_boxes(img, boxes, 'predict_split.jpg', load_class_names('/content/drive/MyDrive/ML_Research/voc.names'))\n"
      ]
    }
  ],
  "metadata": {
    "kernelspec": {
      "display_name": "Python 3",
      "name": "python3"
    },
    "language_info": {
      "codemirror_mode": {
        "name": "ipython",
        "version": 3
      },
      "file_extension": ".py",
      "mimetype": "text/x-python",
      "name": "python",
      "nbconvert_exporter": "python",
      "pygments_lexer": "ipython3",
      "version": "3.13.3"
    },
    "colab": {
      "provenance": [],
      "gpuType": "T4",
      "include_colab_link": true
    },
    "accelerator": "GPU"
  },
  "nbformat": 4,
  "nbformat_minor": 5
}