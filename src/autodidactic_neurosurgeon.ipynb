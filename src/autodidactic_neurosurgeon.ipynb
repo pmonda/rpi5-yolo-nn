{
  "cells": [
    {
      "cell_type": "markdown",
      "metadata": {
        "id": "view-in-github",
        "colab_type": "text"
      },
      "source": [
        "<a href=\"https://colab.research.google.com/github/pmonda/rpi5-yolo-nn/blob/colab/src/autodidactic_neurosurgeon.ipynb\" target=\"_parent\"><img src=\"https://colab.research.google.com/assets/colab-badge.svg\" alt=\"Open In Colab\"/></a>"
      ]
    },
    {
      "cell_type": "code",
      "source": [
        "from google.colab import drive\n",
        "drive.mount('/content/drive')"
      ],
      "metadata": {
        "colab": {
          "base_uri": "https://localhost:8080/"
        },
        "id": "i5yYQzxDTAIS",
        "outputId": "ead68185-835a-4d79-9539-bd161aa05572"
      },
      "id": "i5yYQzxDTAIS",
      "execution_count": 1,
      "outputs": [
        {
          "output_type": "stream",
          "name": "stdout",
          "text": [
            "Mounted at /content/drive\n"
          ]
        }
      ]
    },
    {
      "cell_type": "code",
      "execution_count": 33,
      "id": "45921f06",
      "metadata": {
        "colab": {
          "base_uri": "https://localhost:8080/"
        },
        "id": "45921f06",
        "outputId": "3c86c91b-0cba-4b82-b923-8b58b915b765"
      },
      "outputs": [
        {
          "output_type": "stream",
          "name": "stdout",
          "text": [
            "0: Conv2d\n",
            "1: BatchNorm2d\n",
            "2: LeakyReLU\n",
            "3: MaxPool2d\n",
            "4: Conv2d\n",
            "5: BatchNorm2d\n",
            "6: LeakyReLU\n",
            "7: MaxPool2d\n",
            "8: Conv2d\n",
            "9: BatchNorm2d\n",
            "10: LeakyReLU\n",
            "11: MaxPool2d\n",
            "12: Conv2d\n",
            "13: BatchNorm2d\n",
            "14: LeakyReLU\n",
            "15: MaxPool2d\n",
            "16: Conv2d\n",
            "17: BatchNorm2d\n",
            "18: LeakyReLU\n",
            "19: MaxPool2d\n",
            "20: Conv2d\n",
            "21: BatchNorm2d\n",
            "22: LeakyReLU\n",
            "23: MaxPoolStride1\n",
            "24: Conv2d\n",
            "25: BatchNorm2d\n",
            "26: LeakyReLU\n",
            "27: Conv2d\n",
            "28: BatchNorm2d\n",
            "29: LeakyReLU\n",
            "30: Conv2d\n",
            "dog: 1.000000\n",
            "save plot results to predict_split.jpg\n"
          ]
        },
        {
          "output_type": "stream",
          "name": "stderr",
          "text": [
            "/usr/local/lib/python3.11/dist-packages/torch/nn/modules/module.py:1739: UserWarning: Implicit dimension choice for softmax has been deprecated. Change the call to include dim=X as an argument.\n",
            "  return self._call_impl(*args, **kwargs)\n"
          ]
        }
      ],
      "source": [
        "import sys\n",
        "import os\n",
        "import torch\n",
        "import torch.nn as nn\n",
        "sys.path.append('/content/drive/MyDrive/ML_Research')\n",
        "from tiny_yolo import *\n",
        "\n",
        "\n",
        "def split_model(model, split_idx):\n",
        "    # Use model.cnn instead of model.module_list\n",
        "    part1 = nn.Sequential(*list(model.cnn.children())[:split_idx])\n",
        "    return part1\n",
        "\n",
        "if __name__ == \"__main__\":\n",
        "    from PIL import Image\n",
        "    from utils import *\n",
        "\n",
        "    model = TinyYoloNet()\n",
        "    model.float()\n",
        "    model.load_weights('/content/drive/MyDrive/ML_Research/yolov2-tiny-voc.weights')\n",
        "    model.eval()\n",
        "\n",
        "    # Inspect layer list to choose split index\n",
        "    for idx, layer in enumerate(model.cnn):\n",
        "        print(f\"{idx}: {layer.__class__.__name__}\")\n",
        "\n",
        "    # Choose split point that does NOT include RegionLoss\n",
        "    split_idx = len(model.cnn)  # All layers up to but not including RegionLoss\n",
        "    part1 = split_model(model, split_idx)\n",
        "    part1.cuda()\n",
        "\n",
        "    # Load and prepare image\n",
        "    img = Image.open('/content/drive/MyDrive/ML_Research/pmh2mmc4.png').convert('RGB')\n",
        "    sized = img.resize((416, 416))\n",
        "    img_tensor = image2torch(sized).cuda()\n",
        "\n",
        "    # Run inference with feature extractor (part1)\n",
        "    with torch.no_grad():\n",
        "        feature_out = part1(img_tensor)\n",
        "\n",
        "        # Use get_region_boxes to convert feature output to detections\n",
        "        all_boxes = get_region_boxes(feature_out.data, conf_thresh=0.5, num_classes=20,\n",
        "                                     anchors=model.anchors, num_anchors=model.num_anchors)\n",
        "        boxes = nms(all_boxes[0], 0.4)\n",
        "\n",
        "    # Plot results\n",
        "    plot_boxes(img, boxes, 'predict_split.jpg', load_class_names('/content/drive/MyDrive/ML_Research/voc.names'))\n"
      ]
    }
  ],
  "metadata": {
    "kernelspec": {
      "display_name": "Python 3",
      "name": "python3"
    },
    "language_info": {
      "codemirror_mode": {
        "name": "ipython",
        "version": 3
      },
      "file_extension": ".py",
      "mimetype": "text/x-python",
      "name": "python",
      "nbconvert_exporter": "python",
      "pygments_lexer": "ipython3",
      "version": "3.13.3"
    },
    "colab": {
      "provenance": [],
      "gpuType": "T4",
      "include_colab_link": true
    },
    "accelerator": "GPU"
  },
  "nbformat": 4,
  "nbformat_minor": 5
}