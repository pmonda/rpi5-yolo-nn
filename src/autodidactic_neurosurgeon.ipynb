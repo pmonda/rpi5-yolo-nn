{
  "cells": [
    {
      "cell_type": "code",
      "source": [
        "from google.colab import drive\n",
        "drive.mount('/content/drive')"
      ],
      "metadata": {
        "id": "i5yYQzxDTAIS",
        "outputId": "bff5c9dd-e703-4e0f-d57e-add583314e58",
        "colab": {
          "base_uri": "https://localhost:8080/"
        }
      },
      "id": "i5yYQzxDTAIS",
      "execution_count": 8,
      "outputs": [
        {
          "output_type": "stream",
          "name": "stdout",
          "text": [
            "Drive already mounted at /content/drive; to attempt to forcibly remount, call drive.mount(\"/content/drive\", force_remount=True).\n"
          ]
        }
      ]
    },
    {
      "cell_type": "code",
      "execution_count": 11,
      "id": "45921f06",
      "metadata": {
        "id": "45921f06",
        "outputId": "4ba6ac3c-e3d9-4547-cfbd-08a026f66bf6",
        "colab": {
          "base_uri": "https://localhost:8080/"
        }
      },
      "outputs": [
        {
          "output_type": "stream",
          "name": "stdout",
          "text": [
            "dog: 1.000000\n",
            "save plot results to predict1.jpg\n"
          ]
        }
      ],
      "source": [
        "from tiny_yolo import *\n",
        "\n",
        "\n",
        "if __name__ == \"__main__\":\n",
        "    from PIL import Image\n",
        "    from utils import *\n",
        "\n",
        "    model = TinyYoloNet()\n",
        "    model.float()\n",
        "    model.load_weights('/content/drive/MyDrive/ML_Research/yolov2-tiny-voc.weights')\n",
        "    model.eval()\n",
        "    # print(m)\n",
        "\n",
        "    use_cuda = 1\n",
        "    if use_cuda:\n",
        "        model.cuda()\n",
        "\n",
        "    img = Image.open('/content/drive/MyDrive/ML_Research/pmh2mmc4.png').convert('RGB')\n",
        "    sized = img.resize((416, 416))\n",
        "\n",
        "    boxes = do_detect(model, sized, 0.5, 0.5, use_cuda=True)\n",
        "\n",
        "    class_names = load_class_names('/content/drive/MyDrive/ML_Research/voc.names')\n",
        "    plot_boxes(img, boxes, 'predict1.jpg', class_names)"
      ]
    }
  ],
  "metadata": {
    "kernelspec": {
      "display_name": "Python 3",
      "name": "python3"
    },
    "language_info": {
      "codemirror_mode": {
        "name": "ipython",
        "version": 3
      },
      "file_extension": ".py",
      "mimetype": "text/x-python",
      "name": "python",
      "nbconvert_exporter": "python",
      "pygments_lexer": "ipython3",
      "version": "3.13.3"
    },
    "colab": {
      "provenance": [],
      "gpuType": "T4"
    },
    "accelerator": "GPU"
  },
  "nbformat": 4,
  "nbformat_minor": 5
}